{
 "cells": [
  {
   "cell_type": "code",
   "execution_count": null,
   "metadata": {},
   "outputs": [],
   "source": [
    "# standard imports + comsky\n",
    "import healpy as hp\n",
    "import matplotlib as mpl\n",
    "import numpy as np\n",
    "import matplotlib.pyplot as plt\n",
    "import comsky\n",
    "%matplotlib inline"
   ]
  },
  {
   "cell_type": "code",
   "execution_count": null,
   "metadata": {},
   "outputs": [],
   "source": [
    "# healpix size. NSIDE must be a power of two. Larger=finer.\n",
    "NSIDE=2**8\n",
    "NPIX = hp.nside2npix(NSIDE)\n",
    "\n",
    "# Number of events to simulate\n",
    "NGAL = 10000\n",
    "NISO = 10000\n",
    "NSRC = 1000\n",
    "\n",
    "# Source position (crab)\n",
    "L_SRC = 184.55746\n",
    "B_SRC = -5.78436\n"
   ]
  },
  {
   "cell_type": "markdown",
   "metadata": {},
   "source": [
    "### Example of Compton rings projected on the sky\n",
    "\n",
    "Here we generate 50 Compton rings projected on the sky, from a simulated source at the center of the projection.  For each photon the orientation and radius of the Compton ring is randomly generated."
   ]
  },
  {
   "cell_type": "code",
   "execution_count": null,
   "metadata": {},
   "outputs": [],
   "source": [
    "mSrc50 = comsky.utils.MakePointSource(50, NSIDE, 0, 0)\n",
    "hp.mollview(mSrc50, title=\"Point Source map\")\n",
    "hp.graticule()"
   ]
  },
  {
   "cell_type": "markdown",
   "metadata": {},
   "source": [
    "### Compton events from the Galactic Background\n",
    "\n",
    "Here we simulated NGAL events from a 2 degree band along the Galactic Plane.   The source positions (i.e., true gamma-ray positions) are randomized in the 2 degree band, and then randomly oriented Compton rings are generated from each event."
   ]
  },
  {
   "cell_type": "code",
   "execution_count": null,
   "metadata": {},
   "outputs": [],
   "source": [
    "mGal = comsky.utils.MakeGalacticBackground(NGAL, NSIDE)\n",
    "hp.mollview(mGal, title=\"Galactic Background map\")\n",
    "hp.graticule()"
   ]
  },
  {
   "cell_type": "markdown",
   "metadata": {},
   "source": [
    "### Compton rings from the isotropic background\n",
    "\n",
    "Here we simulated NSIO events from the entire sky.  The source positions (i.e., true gamma-ray positions) are randomly selected on the sphere, and then randomly oriented Compton rings are generated from each event."
   ]
  },
  {
   "cell_type": "code",
   "execution_count": null,
   "metadata": {},
   "outputs": [],
   "source": [
    "mIso = comsky.utils.MakeIsotropicBackground(NISO, NSIDE)\n",
    "hp.mollview(mIso, title=\"Isotropic Background map\")\n",
    "hp.graticule()"
   ]
  },
  {
   "cell_type": "markdown",
   "metadata": {},
   "source": [
    "### Compton rings from a point source\n",
    "\n",
    "Here we simulated NSRC events from the Crab.  For each event the orientation of the Compton ring is randomly generated."
   ]
  },
  {
   "cell_type": "code",
   "execution_count": null,
   "metadata": {},
   "outputs": [],
   "source": [
    "mSrc = comsky.utils.MakePointSource(NSRC, NSIDE, L_SRC, B_SRC)\n",
    "hp.mollview(mSrc, title=\"Point Source map\")\n",
    "hp.graticule()"
   ]
  },
  {
   "cell_type": "markdown",
   "metadata": {},
   "source": [
    "### Summed Map\n",
    "\n",
    "Here we sum the three maps together"
   ]
  },
  {
   "cell_type": "code",
   "execution_count": null,
   "metadata": {},
   "outputs": [],
   "source": [
    "hp.mollview(mSrc+mIso+mGal, title=\"Fake map (background + galactic plane + point source)\")\n",
    "hp.graticule()"
   ]
  },
  {
   "cell_type": "markdown",
   "metadata": {},
   "source": [
    "### PSF Map\n",
    "\n",
    "Here we generate events for a source at the pole.  This will allow us to extract the \"PSF\" by reading off the map in rings."
   ]
  },
  {
   "cell_type": "code",
   "execution_count": null,
   "metadata": {},
   "outputs": [],
   "source": [
    "mPSF = comsky.utils.MakePointSource(10000, NSIDE, 0, 90.)\n",
    "hp.mollview(mPSF, title=\"PSF\")\n",
    "hp.graticule()"
   ]
  },
  {
   "cell_type": "markdown",
   "metadata": {},
   "source": [
    "### Convert the PSF map to a set of ALMs for later use in convolutions"
   ]
  },
  {
   "cell_type": "code",
   "execution_count": null,
   "metadata": {},
   "outputs": [],
   "source": [
    "almPSF = hp.sphtfunc.map2alm(mPSF)"
   ]
  },
  {
   "cell_type": "markdown",
   "metadata": {},
   "source": [
    "### Generate simple map of the Galactic plane to demostrate convolutions\n",
    "\n",
    "This map is just a 5 degree band centered on the Galactic equator."
   ]
  },
  {
   "cell_type": "code",
   "execution_count": null,
   "metadata": {},
   "outputs": [],
   "source": [
    "l = 0.\n",
    "b = 90.\n",
    "radius=90\n",
    "width=5\n",
    "rO=np.deg2rad(radius+0.5*width)\n",
    "rI=np.deg2rad(radius-0.5*width)\n",
    "center = hp.pixelfunc.ang2vec(l, b, lonlat=True)\n",
    "gp_ring = list( set(hp.query_disc(NSIDE, center, rO)) - set(hp.query_disc(NSIDE, center, rI)) )\n",
    "mGP_True = np.zeros(NPIX)\n",
    "mGP_True[gp_ring] = 1\n",
    "hp.mollview(mGP_True, fig=1, title=\"GP_TRUE_MAP\")\n",
    "hp.graticule()"
   ]
  },
  {
   "cell_type": "markdown",
   "metadata": {},
   "source": [
    "### Use the ALMs from the PSF map to do the convultions"
   ]
  },
  {
   "cell_type": "code",
   "execution_count": null,
   "metadata": {},
   "outputs": [],
   "source": [
    "mGP_Conv = comsky.utils.ConvolveUsingAlm(mGP_True, almPSF)\n",
    "hp.mollview(mGP_Conv, fig=1, title=\"GP_TRUE_MAP\")\n",
    "hp.graticule()"
   ]
  },
  {
   "cell_type": "markdown",
   "metadata": {},
   "source": [
    "### Extract a 1-dimensional plot of the \"PSF\" from the PSF map"
   ]
  },
  {
   "cell_type": "code",
   "execution_count": null,
   "metadata": {},
   "outputs": [],
   "source": [
    "thetas = np.degrees(hp.pixelfunc.pix2ang(NSIDE, np.arange(NPIX))[0])"
   ]
  },
  {
   "cell_type": "code",
   "execution_count": null,
   "metadata": {},
   "outputs": [],
   "source": [
    "bins = np.linspace(0., 90., 451)\n",
    "hist = np.histogram(thetas, bins=bins, weights=mPSF)[0]\n",
    "sa_hist = np.histogram(thetas, bins=bins)\n",
    "hist /= sa_hist[0]"
   ]
  },
  {
   "cell_type": "code",
   "execution_count": null,
   "metadata": {},
   "outputs": [],
   "source": [
    "fig = plt.figure()\n",
    "axs = fig.subplots()\n",
    "axs.set_xlim(0., 90)\n",
    "axs.set_xlabel(r\"Ang. Sep. [$^\\circ$]\")\n",
    "axs.set_ylabel(r\"Density / [$0.2^\\circ$]\")\n",
    "bin_cent = 0.5*(bins[1:] + bins[0:-1])\n",
    "axs.plot(bin_cent, hist)"
   ]
  },
  {
   "cell_type": "markdown",
   "metadata": {},
   "source": [
    "### Make a point source map with only 5 events, to visual the Compton rings"
   ]
  },
  {
   "cell_type": "code",
   "execution_count": null,
   "metadata": {},
   "outputs": [],
   "source": [
    "mSrc = comsky.utils.MakePointSource(50, NSIDE, L_SRC, B_SRC)\n",
    "hp.mollview(mSrc, title=\"Point Source map\")\n",
    "hp.graticule()"
   ]
  },
  {
   "cell_type": "code",
   "execution_count": null,
   "metadata": {},
   "outputs": [],
   "source": []
  },
  {
   "cell_type": "code",
   "execution_count": null,
   "metadata": {},
   "outputs": [],
   "source": []
  }
 ],
 "metadata": {
  "kernelspec": {
   "display_name": "Python 3",
   "language": "python",
   "name": "python3"
  },
  "language_info": {
   "codemirror_mode": {
    "name": "ipython",
    "version": 3
   },
   "file_extension": ".py",
   "mimetype": "text/x-python",
   "name": "python",
   "nbconvert_exporter": "python",
   "pygments_lexer": "ipython3",
   "version": "3.7.9"
  }
 },
 "nbformat": 4,
 "nbformat_minor": 4
}
