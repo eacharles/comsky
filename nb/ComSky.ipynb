{
 "cells": [
  {
   "cell_type": "code",
   "execution_count": null,
   "metadata": {},
   "outputs": [],
   "source": [
    "import healpy as hp\n",
    "import matplotlib as mpl\n",
    "import numpy as np\n",
    "import matplotlib.pyplot as plt\n",
    "import comsky\n",
    "%matplotlib inline"
   ]
  },
  {
   "cell_type": "code",
   "execution_count": null,
   "metadata": {},
   "outputs": [],
   "source": [
    "#healpix size. NSIDE must be a power of two. Larger=finer.\n",
    "\n",
    "NSIDE=2**8\n",
    "NPIX = hp.nside2npix(NSIDE)\n",
    "NGAL = 10000\n",
    "NISO = 10000\n",
    "NSRC = 1000\n",
    "\n",
    "L_SRC = 184.55746\n",
    "B_SRC = -5.78436\n"
   ]
  },
  {
   "cell_type": "code",
   "execution_count": null,
   "metadata": {},
   "outputs": [],
   "source": [
    "nGal = 10000\n",
    "mGal = comsky.utils.MakeGalacticBackground(nGal, NSIDE)\n",
    "hp.mollview(mGal, title=\"Galactic Background map\")\n",
    "hp.graticule()"
   ]
  },
  {
   "cell_type": "code",
   "execution_count": null,
   "metadata": {},
   "outputs": [],
   "source": [
    "nIso = 10000\n",
    "mIso = comsky.utils.MakeIsotropicBackground(nIso, NSIDE)\n",
    "hp.mollview(mIso, title=\"Isotropic Background map\")\n",
    "hp.graticule()"
   ]
  },
  {
   "cell_type": "code",
   "execution_count": null,
   "metadata": {},
   "outputs": [],
   "source": [
    "nSrc = 1000\n",
    "l = 184.55746\n",
    "b = -5.78436\n",
    "mSrc = comsky.utils.MakePointSource(nSrc, NSIDE, l, b)\n",
    "hp.mollview(mSrc, title=\"Point Source map\")\n",
    "hp.graticule()"
   ]
  },
  {
   "cell_type": "code",
   "execution_count": null,
   "metadata": {},
   "outputs": [],
   "source": [
    "hp.mollview(mSrc+mIso+mGal, title=\"Fake map (background + galactic plane + point source)\")\n",
    "hp.graticule()"
   ]
  },
  {
   "cell_type": "code",
   "execution_count": null,
   "metadata": {},
   "outputs": [],
   "source": [
    "mPSF = comsky.utils.MakePointSource(10000, NSIDE, 0, 90.)\n",
    "hp.mollview(mPSF, title=\"PSF\")\n",
    "hp.graticule()"
   ]
  },
  {
   "cell_type": "code",
   "execution_count": null,
   "metadata": {},
   "outputs": [],
   "source": [
    "almPSF = hp.sphtfunc.map2alm(mPSF)"
   ]
  },
  {
   "cell_type": "code",
   "execution_count": null,
   "metadata": {},
   "outputs": [],
   "source": [
    "l = 0.\n",
    "b = 90.\n",
    "radius=90\n",
    "width=5\n",
    "rO=np.deg2rad(radius+0.5*width)\n",
    "rI=np.deg2rad(radius-0.5*width)\n",
    "center = hp.pixelfunc.ang2vec(l, b, lonlat=True)\n",
    "gp_ring = list( set(hp.query_disc(NSIDE, center, rO)) - set(hp.query_disc(NSIDE, center, rI)) )\n",
    "mGP_True = np.zeros(NPIX)\n",
    "mGP_True[gp_ring] = 1\n",
    "hp.mollview(mGP_True, fig=1, title=\"GP_TRUE_MAP\")\n",
    "hp.graticule()"
   ]
  },
  {
   "cell_type": "code",
   "execution_count": null,
   "metadata": {},
   "outputs": [],
   "source": [
    "mGP_Conv = comsky.utils.ConvolveUsingAlm(mGP_True, almPSF)\n",
    "hp.mollview(mGP_Conv, fig=1, title=\"GP_TRUE_MAP\")\n",
    "hp.graticule()"
   ]
  },
  {
   "cell_type": "code",
   "execution_count": null,
   "metadata": {},
   "outputs": [],
   "source": [
    "thetas = np.degrees(hp.pixelfunc.pix2ang(NSIDE, np.arange(NPIX))[0])"
   ]
  },
  {
   "cell_type": "code",
   "execution_count": null,
   "metadata": {},
   "outputs": [],
   "source": [
    "bins = np.linspace(0., 90., 451)\n",
    "hist = np.histogram(thetas, bins=bins, weights=mPSF)[0]\n",
    "sa_hist = np.histogram(thetas, bins=bins)\n",
    "hist /= sa_hist[0]"
   ]
  },
  {
   "cell_type": "code",
   "execution_count": null,
   "metadata": {},
   "outputs": [],
   "source": [
    "fig = plt.figure()\n",
    "axs = fig.subplots()\n",
    "axs.set_xlim(0., 90)\n",
    "axs.set_xlabel(r\"Ang. Sep. [$^\\circ$]\")\n",
    "axs.set_ylabel(r\"Density / [$0.2^\\circ$]\")\n",
    "bin_cent = 0.5*(bins[1:] + bins[0:-1])\n",
    "axs.plot(bin_cent, hist)"
   ]
  },
  {
   "cell_type": "code",
   "execution_count": null,
   "metadata": {},
   "outputs": [],
   "source": [
    "import scipy.stats as sps\n",
    "NSRC=50\n",
    "l = 184.55746\n",
    "b = -5.78436\n",
    "mSrc = comsky.utils.MakePointSource(50, NSIDE, l, b)\n",
    "hp.mollview(mSrc, title=\"Point Source map\")\n",
    "hp.graticule()"
   ]
  },
  {
   "cell_type": "code",
   "execution_count": null,
   "metadata": {},
   "outputs": [],
   "source": []
  }
 ],
 "metadata": {
  "kernelspec": {
   "display_name": "Python 3",
   "language": "python",
   "name": "python3"
  },
  "language_info": {
   "codemirror_mode": {
    "name": "ipython",
    "version": 3
   },
   "file_extension": ".py",
   "mimetype": "text/x-python",
   "name": "python",
   "nbconvert_exporter": "python",
   "pygments_lexer": "ipython3",
   "version": "3.7.9"
  }
 },
 "nbformat": 4,
 "nbformat_minor": 4
}
