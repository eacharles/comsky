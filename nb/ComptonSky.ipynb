{
 "cells": [
  {
   "cell_type": "code",
   "execution_count": null,
   "metadata": {},
   "outputs": [],
   "source": [
    "import healpy as hp\n",
    "import matplotlib as mpl\n",
    "import numpy as np\n",
    "import matplotlib.pyplot as plt\n",
    "import random\n",
    "\n",
    "%matplotlib inline"
   ]
  },
  {
   "cell_type": "code",
   "execution_count": null,
   "metadata": {},
   "outputs": [],
   "source": [
    "#healpix size. NSIDE must be a power of two. Larger=finer.\n",
    "\n",
    "NSIDE=2**8\n",
    "NPIX = hp.nside2npix(NSIDE)\n"
   ]
  },
  {
   "cell_type": "markdown",
   "metadata": {},
   "source": [
    "Given a healpix map and a sky direction (given here as the healpix pixel index), add the back-projected compton cone around that pixel to the map. That is done by finding the pixels in a ring (with given radius and width) around the given direction, and adding 1 to the map value of the pixels in that ring. (Might want to normalize it by the ring area eventually.)"
   ]
  },
  {
   "cell_type": "code",
   "execution_count": null,
   "metadata": {},
   "outputs": [],
   "source": [
    "def AddRingToMap(m, pix, radius=30, width=5): \n",
    "    \n",
    "    rO=np.deg2rad(radius+0.5*width)\n",
    "    rI=np.deg2rad(radius-0.5*width)\n",
    "    vec=hp.pixelfunc.pix2vec(NSIDE, pix)\n",
    "    sel = hp.query_disc(NSIDE, vec, rO)\n",
    "    m[sel] += 1\n",
    "    sel = hp.query_disc(NSIDE, vec, rI)\n",
    "    m[sel] -= 1\n",
    "\n",
    "    "
   ]
  },
  {
   "cell_type": "markdown",
   "metadata": {},
   "source": [
    "Flat background, randomly distributed on the sky. Since the healpix pixels all have equal area, we can just pick random pixels and then add a ring around each pixel."
   ]
  },
  {
   "cell_type": "code",
   "execution_count": null,
   "metadata": {},
   "outputs": [],
   "source": [
    "nBG=100000\n",
    "mBG = np.zeros(NPIX)\n",
    "\n",
    "for i in np.arange(0, nBG):\n",
    "    ipix = random.randrange(0, NPIX)\n",
    "    AddRingToMap(mBG, ipix)\n",
    "\n",
    "hp.mollview(mBG, title=\"Background map\")\n",
    "hp.graticule()"
   ]
  },
  {
   "cell_type": "markdown",
   "metadata": {},
   "source": [
    "Fake point source (Crab location). First, find the ring around the source location with the given radius/width. Any point on that ring should have its backprojected compton cone intersect with the original source location, so we can pick any point on the ring randomly."
   ]
  },
  {
   "cell_type": "code",
   "execution_count": null,
   "metadata": {},
   "outputs": [],
   "source": [
    "nPS=1000\n",
    "mPS = np.zeros(NPIX)\n",
    "\n",
    "l = 184.55746\n",
    "b = -05.78436\n",
    "\n",
    "radius=30\n",
    "width=5\n",
    "rO=np.deg2rad(radius+0.5*width)\n",
    "rI=np.deg2rad(radius-0.5*width)\n",
    "\n",
    "center = hp.pixelfunc.ang2vec(l, b, lonlat=True)\n",
    "ring=list( set(hp.query_disc(NSIDE, center, rO)) - set(hp.query_disc(NSIDE, center, rI)) )\n",
    "\n",
    "for i in np.arange(0, nPS):\n",
    "    ipix = random.choice(ring)\n",
    "    AddRingToMap(mPS, ipix)\n",
    "\n",
    "hp.mollview(mPS, fig=1, title=\"Fake PS map\")\n",
    "hp.graticule()"
   ]
  },
  {
   "cell_type": "markdown",
   "metadata": {},
   "source": [
    "Galactic plane signal is assumed to be flat in l and gaussian in b, with a width of 2˚. So we can pick a random point with that distribution, than find the \"ring\" around it and add the backprojected Compton cone of a random point on that ring. "
   ]
  },
  {
   "cell_type": "code",
   "execution_count": null,
   "metadata": {},
   "outputs": [],
   "source": [
    "nGal=1000\n",
    "#run with nGal=10000 instead of 1000 to get a pretty result, takes a few minutes though.\n",
    "\n",
    "mGal = np.zeros(NPIX)\n",
    "\n",
    "for i in np.arange(0, nGal):\n",
    "    \n",
    "    l=random.uniform(-180, 180)\n",
    "    b=random.gauss(0, 2)\n",
    "    \n",
    "    center = hp.pixelfunc.ang2vec(l, b, lonlat=True)\n",
    "    ring=list( set(hp.query_disc(NSIDE, center, rO)) - set(hp.query_disc(NSIDE, center, rI)) )\n",
    "\n",
    "    ipix=random.choice(ring)\n",
    "    AddRingToMap(mGal, ipix)\n",
    "\n",
    "hp.mollview(mGal, title=\"Fake Galactic plane map\")\n",
    "hp.graticule()"
   ]
  },
  {
   "cell_type": "code",
   "execution_count": null,
   "metadata": {},
   "outputs": [],
   "source": [
    "hp.mollview(mPS+mBG+mGal, title=\"Fake map (background + galactic plane + point source)\")\n",
    "hp.graticule()"
   ]
  },
  {
   "cell_type": "code",
   "execution_count": null,
   "metadata": {},
   "outputs": [],
   "source": []
  }
 ],
 "metadata": {
  "kernelspec": {
   "display_name": "Python 3",
   "language": "python",
   "name": "python3"
  },
  "language_info": {
   "codemirror_mode": {
    "name": "ipython",
    "version": 3
   },
   "file_extension": ".py",
   "mimetype": "text/x-python",
   "name": "python",
   "nbconvert_exporter": "python",
   "pygments_lexer": "ipython3",
   "version": "3.7.9"
  }
 },
 "nbformat": 4,
 "nbformat_minor": 4
}
